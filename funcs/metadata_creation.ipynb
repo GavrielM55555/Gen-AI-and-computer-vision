{
 "cells": [
  {
   "cell_type": "code",
   "execution_count": 56,
   "id": "66e44e2d",
   "metadata": {},
   "outputs": [],
   "source": [
    "import torch\n",
    "import matplotlib.pyplot as plt\n",
    "import numpy as np\n",
    "import plotly.express as px\n",
    "import pandas as pd\n",
    "import numpy as np\n",
    "import torch\n",
    "import matplotlib.pyplot as plt\n",
    "import sys\n",
    "import xarray as xr\n",
    "import os"
   ]
  },
  {
   "cell_type": "code",
   "execution_count": null,
   "id": "d808450c",
   "metadata": {},
   "outputs": [],
   "source": [
    "#for the timestapms we need the location where all the files are stored"
   ]
  },
  {
   "cell_type": "code",
   "execution_count": 1,
   "id": "cbe7ec25",
   "metadata": {},
   "outputs": [],
   "source": [
    "# for the meta data we need to take one netcdf file and extract the shared vars"
   ]
  },
  {
   "cell_type": "code",
   "execution_count": 53,
   "id": "9dd5d912",
   "metadata": {},
   "outputs": [],
   "source": [
    "def create_timestamps(location): #location to the path whrere all the files are stored\n",
    "    timestamps=[]\n",
    "    files = os.listdir(location)\n",
    "    for i,data1 in enumerate(files):\n",
    "        dir=location+data1\n",
    "        data=xr.open_dataset(dir)\n",
    "        date=np.datetime_as_string(data['time'][0].variable, unit='s')\n",
    "        timestamps.append(date)\n",
    "    return timestamps.sort()"
   ]
  },
  {
   "cell_type": "code",
   "execution_count": null,
   "id": "43719c75",
   "metadata": {},
   "outputs": [],
   "source": [
    "#bulding meta_data\n",
    "def metadata(file_path,files_location): #file_path to one of the netcdf files , files_location where all the files are stored\n",
    "    data=xr.open_dataset(file_path)\n",
    "    meta_data={}\n",
    "    meta_data[\"longitude\"]=data[\"longitude\"].values\n",
    "    meta_data[\"latitude\"]=data[\"latitude\"].values\n",
    "    meta_data[\"variable\"]=[x for x in data]\n",
    "    meta_data[\"timestamps\"]=create_timestamps(files_location)\n",
    "    \n",
    "    return meta_data\n",
    "    "
   ]
  }
 ],
 "metadata": {
  "kernelspec": {
   "display_name": "myenv",
   "language": "python",
   "name": "myenv"
  },
  "language_info": {
   "codemirror_mode": {
    "name": "ipython",
    "version": 3
   },
   "file_extension": ".py",
   "mimetype": "text/x-python",
   "name": "python",
   "nbconvert_exporter": "python",
   "pygments_lexer": "ipython3",
   "version": "3.11.4"
  }
 },
 "nbformat": 4,
 "nbformat_minor": 5
}
